{
 "cells": [
  {
   "cell_type": "markdown",
   "metadata": {},
   "source": [
    "### Import Libraries"
   ]
  },
  {
   "cell_type": "code",
   "execution_count": null,
   "metadata": {},
   "outputs": [],
   "source": [
    "import numpy as np\n",
    "import pandas as pd\n",
    "import matplotlib.pyplot as plt\n",
    "from google.cloud import bigquery as bq\n",
    "from google.oauth2 import service_account"
   ]
  },
  {
   "cell_type": "markdown",
   "metadata": {},
   "source": [
    "### Declarre Variables "
   ]
  },
  {
   "cell_type": "code",
   "execution_count": null,
   "metadata": {},
   "outputs": [],
   "source": [
    "project_id = 'poised-ceiling-202111'"
   ]
  },
  {
   "cell_type": "code",
   "execution_count": null,
   "metadata": {},
   "outputs": [],
   "source": [
    "client = bq.Client(project_id)"
   ]
  },
  {
   "cell_type": "code",
   "execution_count": null,
   "metadata": {},
   "outputs": [],
   "source": [
    "def big_query(query, client=client):\n",
    "    return client.query(query).to_dataframe()"
   ]
  },
  {
   "cell_type": "markdown",
   "metadata": {},
   "source": [
    "### Big Query "
   ]
  },
  {
   "cell_type": "code",
   "execution_count": null,
   "metadata": {},
   "outputs": [],
   "source": [
    "QUERY_HEAD = 'SELECT * FROM `sensor_data.sensor_data_table` LIMIT 10'\n",
    "big_query(QUERY_HEAD)"
   ]
  },
  {
   "cell_type": "code",
   "execution_count": null,
   "metadata": {},
   "outputs": [],
   "source": [
    "QUERY_AVG_SENSOR = \"\"\"\n",
    "                        SELECT\n",
    "                          sensor_id,\n",
    "                          AVG(value) AS avg_temp\n",
    "                        FROM\n",
    "                          `sensor_data.sensor_data_table`\n",
    "                        WHERE\n",
    "                          (type = \"temperature\")\n",
    "                        GROUP BY\n",
    "                          sensor_id\n",
    "                        ORDER BY\n",
    "                          avg_temp DESC\n",
    "                   \"\"\"\n",
    "\n",
    "big_query(QUERY_AVG_SENSOR)"
   ]
  },
  {
   "cell_type": "code",
   "execution_count": null,
   "metadata": {},
   "outputs": [],
   "source": [
    "QUERY_MAX = \"\"\"\n",
    "                SELECT\n",
    "                  sensor_id,\n",
    "                  MAX(value) AS max_temp\n",
    "                FROM\n",
    "                  `sensor_data.sensor_data_table`\n",
    "                WHERE\n",
    "                  (type = \"temperature\")\n",
    "                GROUP BY\n",
    "                  sensor_id\n",
    "                ORDER BY\n",
    "                  max_temp DESC\n",
    "              \"\"\"\n",
    "big_query(QUERY_MAX)"
   ]
  },
  {
   "cell_type": "code",
   "execution_count": null,
   "metadata": {},
   "outputs": [],
   "source": [
    "QUERY_MIN = \"\"\"\n",
    "                SELECT\n",
    "                  sensor_id,\n",
    "                  MIN(value) AS min_temp\n",
    "                FROM\n",
    "                  `sensor_data.sensor_data_table`\n",
    "                WHERE\n",
    "                  (type = \"temperature\")\n",
    "                GROUP BY\n",
    "                  sensor_id\n",
    "                ORDER BY\n",
    "                  min_temp DESC\n",
    "              \"\"\"\n",
    "big_query(QUERY_MIN)"
   ]
  },
  {
   "cell_type": "code",
   "execution_count": null,
   "metadata": {},
   "outputs": [],
   "source": [
    "QUERY_AVG_HOUR = \"\"\"\n",
    "                    SELECT\n",
    "                      sensor_id,\n",
    "                      AVG(value) AS avg_temp,\n",
    "                      extract(hour from timestamp) AS hour\n",
    "                    FROM\n",
    "                      `sensor_data.sensor_data_table`\n",
    "                    WHERE\n",
    "                      (type = \"temperature\")\n",
    "                    GROUP BY\n",
    "                      sensor_id, hour\n",
    "                    ORDER BY\n",
    "                      avg_temp DESC\n",
    "                  \"\"\"\n",
    "big_query(QUERY_AVG_HOUR)"
   ]
  },
  {
   "cell_type": "code",
   "execution_count": null,
   "metadata": {},
   "outputs": [],
   "source": []
  }
 ],
 "metadata": {
  "kernelspec": {
   "display_name": "Python 3",
   "language": "python",
   "name": "python3"
  },
  "language_info": {
   "codemirror_mode": {
    "name": "ipython",
    "version": 3
   },
   "file_extension": ".py",
   "mimetype": "text/x-python",
   "name": "python",
   "nbconvert_exporter": "python",
   "pygments_lexer": "ipython3",
   "version": "3.6.9"
  }
 },
 "nbformat": 4,
 "nbformat_minor": 4
}
